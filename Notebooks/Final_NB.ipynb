{
  "cells": [
    {
      "cell_type": "markdown",
      "metadata": {},
      "source": [
        "The dataset is from Kaggle for hatespeech detection. The dataset used for training the model is the balanced one which has equal proportions of class labels. \n",
        "\n",
        "Dataset Link: https://www.kaggle.com/datasets/waalbannyantudre/hate-speech-detection-curated-dataset?select=HateSpeechDatasetBalanced.csv"
      ]
    },
    {
      "cell_type": "code",
      "execution_count": null,
      "metadata": {
        "id": "EwmAYwT9tbU4"
      },
      "outputs": [],
      "source": [
        "#Importing the necessary libraries\n",
        "from sklearn.feature_extraction.text import TfidfVectorizer\n",
        "from sklearn.model_selection import train_test_split\n",
        "from sklearn.metrics import accuracy_score, classification_report\n",
        "import pandas as pd\n",
        "from sklearn.naive_bayes import MultinomialNB\n",
        "from sklearn.pipeline import Pipeline"
      ]
    },
    {
      "cell_type": "code",
      "execution_count": 3,
      "metadata": {
        "colab": {
          "base_uri": "https://localhost:8080/",
          "height": 206
        },
        "id": "WFyQdnF0tx3w",
        "outputId": "f27f26b9-27c2-4d8c-f6dd-7e8cd1afd594"
      },
      "outputs": [
        {
          "data": {
            "text/html": [
              "<div>\n",
              "<style scoped>\n",
              "    .dataframe tbody tr th:only-of-type {\n",
              "        vertical-align: middle;\n",
              "    }\n",
              "\n",
              "    .dataframe tbody tr th {\n",
              "        vertical-align: top;\n",
              "    }\n",
              "\n",
              "    .dataframe thead th {\n",
              "        text-align: right;\n",
              "    }\n",
              "</style>\n",
              "<table border=\"1\" class=\"dataframe\">\n",
              "  <thead>\n",
              "    <tr style=\"text-align: right;\">\n",
              "      <th></th>\n",
              "      <th>Content</th>\n",
              "      <th>Label</th>\n",
              "    </tr>\n",
              "  </thead>\n",
              "  <tbody>\n",
              "    <tr>\n",
              "      <th>0</th>\n",
              "      <td>denial of normal the con be asked to comment o...</td>\n",
              "      <td>1</td>\n",
              "    </tr>\n",
              "    <tr>\n",
              "      <th>1</th>\n",
              "      <td>just by being able to tweet this insufferable ...</td>\n",
              "      <td>1</td>\n",
              "    </tr>\n",
              "    <tr>\n",
              "      <th>2</th>\n",
              "      <td>that is retarded you too cute to be single tha...</td>\n",
              "      <td>1</td>\n",
              "    </tr>\n",
              "    <tr>\n",
              "      <th>3</th>\n",
              "      <td>thought of a real badass mongol style declarat...</td>\n",
              "      <td>1</td>\n",
              "    </tr>\n",
              "    <tr>\n",
              "      <th>4</th>\n",
              "      <td>afro american basho</td>\n",
              "      <td>1</td>\n",
              "    </tr>\n",
              "  </tbody>\n",
              "</table>\n",
              "</div>"
            ],
            "text/plain": [
              "                                             Content  Label\n",
              "0  denial of normal the con be asked to comment o...      1\n",
              "1  just by being able to tweet this insufferable ...      1\n",
              "2  that is retarded you too cute to be single tha...      1\n",
              "3  thought of a real badass mongol style declarat...      1\n",
              "4                                afro american basho      1"
            ]
          },
          "execution_count": 3,
          "metadata": {},
          "output_type": "execute_result"
        }
      ],
      "source": [
        "#Importing the dataset\n",
        "df = pd.read_csv(\"../Datasets/HateSpeechDatasetBalanced.csv\")\n",
        "df.head()"
      ]
    },
    {
      "cell_type": "markdown",
      "metadata": {},
      "source": [
        "Checking for null values"
      ]
    },
    {
      "cell_type": "code",
      "execution_count": 4,
      "metadata": {
        "colab": {
          "base_uri": "https://localhost:8080/"
        },
        "id": "nZkMifl5t_2a",
        "outputId": "e532af97-aa17-40b0-b2e7-270d0033e04a"
      },
      "outputs": [
        {
          "name": "stdout",
          "output_type": "stream",
          "text": [
            "<class 'pandas.core.frame.DataFrame'>\n",
            "RangeIndex: 726119 entries, 0 to 726118\n",
            "Data columns (total 2 columns):\n",
            " #   Column   Non-Null Count   Dtype \n",
            "---  ------   --------------   ----- \n",
            " 0   Content  726119 non-null  object\n",
            " 1   Label    726119 non-null  int64 \n",
            "dtypes: int64(1), object(1)\n",
            "memory usage: 11.1+ MB\n"
          ]
        }
      ],
      "source": [
        "#Checking the dataset\n",
        "df.info()"
      ]
    },
    {
      "cell_type": "markdown",
      "metadata": {},
      "source": [
        "Coding the Multinomial Naive Bayes Model"
      ]
    },
    {
      "cell_type": "code",
      "execution_count": 6,
      "metadata": {},
      "outputs": [
        {
          "name": "stdout",
          "output_type": "stream",
          "text": [
            "Accuracy: 0.8758263097008759\n",
            "              precision    recall  f1-score   support\n",
            "\n",
            "           0       0.94      0.80      0.87     72043\n",
            "           1       0.83      0.95      0.88     73181\n",
            "\n",
            "    accuracy                           0.88    145224\n",
            "   macro avg       0.88      0.88      0.88    145224\n",
            "weighted avg       0.88      0.88      0.88    145224\n",
            "\n"
          ]
        }
      ],
      "source": [
        "#Train Test Split\n",
        "X = df['Content']\n",
        "y = df['Label']\n",
        "\n",
        "X_train, X_test, y_train, y_test = train_test_split(X, y, test_size=0.2, random_state=42)\n",
        "\n",
        "#Creating a pipeline for the model\n",
        "\n",
        "pipeline = Pipeline([\n",
        "    ('tfidf', TfidfVectorizer(ngram_range=(1,2))),\n",
        "    ('clf', MultinomialNB(alpha = 0.1))\n",
        "])\n",
        "\n",
        "#Fitting the pipeline to the training data\n",
        "pipeline.fit(X_train, y_train)\n",
        "\n",
        "#Predicting the test data\n",
        "y_pred = pipeline.predict(X_test)\n",
        "print(\"Accuracy:\", accuracy_score(y_test, y_pred))\n",
        "print(classification_report(y_test, y_pred))"
      ]
    },
    {
      "cell_type": "markdown",
      "metadata": {},
      "source": [
        "Here, we can see that the model's overall accuracy is 87% using MultinomialNB with TFIDF Vectorizer."
      ]
    },
    {
      "cell_type": "markdown",
      "metadata": {},
      "source": [
        "Last, we code to split the entire dataset into train.csv and test.csv for python source files"
      ]
    },
    {
      "cell_type": "code",
      "execution_count": null,
      "metadata": {},
      "outputs": [],
      "source": [
        "#Split the entire dataset into training and testing sets\n",
        "\n",
        "train_csv = df.sample(frac=0.8, random_state=42)\n",
        "test_csv = df.drop(train_csv.index)\n",
        "\n",
        "#Save the training and testing sets to CSV files\n",
        "train_csv.to_csv(\"../Datasets/train.csv\", index=False)\n",
        "test_csv.to_csv(\"../Datasets/test.csv\", index=False)\n"
      ]
    }
  ],
  "metadata": {
    "colab": {
      "provenance": []
    },
    "kernelspec": {
      "display_name": "Python 3",
      "name": "python3"
    },
    "language_info": {
      "codemirror_mode": {
        "name": "ipython",
        "version": 3
      },
      "file_extension": ".py",
      "mimetype": "text/x-python",
      "name": "python",
      "nbconvert_exporter": "python",
      "pygments_lexer": "ipython3",
      "version": "3.12.2"
    }
  },
  "nbformat": 4,
  "nbformat_minor": 0
}
